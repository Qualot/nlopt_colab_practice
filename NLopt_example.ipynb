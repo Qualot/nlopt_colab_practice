{
  "nbformat": 4,
  "nbformat_minor": 0,
  "metadata": {
    "colab": {
      "provenance": [],
      "authorship_tag": "ABX9TyNRrgqQavKqkL3DMiRs04U4",
      "include_colab_link": true
    },
    "kernelspec": {
      "name": "python3",
      "display_name": "Python 3"
    },
    "language_info": {
      "name": "python"
    }
  },
  "cells": [
    {
      "cell_type": "markdown",
      "metadata": {
        "id": "view-in-github",
        "colab_type": "text"
      },
      "source": [
        "<a href=\"https://colab.research.google.com/github/Qualot/nlopt_colab_practice/blob/main/NLopt_example.ipynb\" target=\"_parent\"><img src=\"https://colab.research.google.com/assets/colab-badge.svg\" alt=\"Open In Colab\"/></a>"
      ]
    },
    {
      "cell_type": "code",
      "source": [
        "!pip3 install nlopt"
      ],
      "metadata": {
        "colab": {
          "base_uri": "https://localhost:8080/"
        },
        "id": "8-8rYibDS7dH",
        "outputId": "bfb5a969-f70a-4a5e-c148-8b1ee17427d0"
      },
      "execution_count": 5,
      "outputs": [
        {
          "output_type": "stream",
          "name": "stdout",
          "text": [
            "Collecting nlopt\n",
            "  Downloading nlopt-2.7.1-cp310-cp310-manylinux_2_17_x86_64.manylinux2014_x86_64.whl (423 kB)\n",
            "\u001b[?25l     \u001b[90m━━━━━━━━━━━━━━━━━━━━━━━━━━━━━━━━━━━━━━━━\u001b[0m \u001b[32m0.0/423.7 kB\u001b[0m \u001b[31m?\u001b[0m eta \u001b[36m-:--:--\u001b[0m\r\u001b[2K     \u001b[91m━━━━━━━━━━━━━━\u001b[0m\u001b[91m╸\u001b[0m\u001b[90m━━━━━━━━━━━━━━━━━━━━━━━━━\u001b[0m \u001b[32m153.6/423.7 kB\u001b[0m \u001b[31m4.4 MB/s\u001b[0m eta \u001b[36m0:00:01\u001b[0m\r\u001b[2K     \u001b[90m━━━━━━━━━━━━━━━━━━━━━━━━━━━━━━━━━━━━━━━━\u001b[0m \u001b[32m423.7/423.7 kB\u001b[0m \u001b[31m7.5 MB/s\u001b[0m eta \u001b[36m0:00:00\u001b[0m\n",
            "\u001b[?25hRequirement already satisfied: numpy>=1.14 in /usr/local/lib/python3.10/dist-packages (from nlopt) (1.23.5)\n",
            "Installing collected packages: nlopt\n",
            "Successfully installed nlopt-2.7.1\n"
          ]
        }
      ]
    },
    {
      "cell_type": "code",
      "source": [
        "import nlopt\n",
        "from numpy import *"
      ],
      "metadata": {
        "id": "GUbVIrXaR6UM"
      },
      "execution_count": 6,
      "outputs": []
    },
    {
      "cell_type": "markdown",
      "source": [
        "#Target function"
      ],
      "metadata": {
        "id": "zhURM_IfUOOG"
      }
    },
    {
      "cell_type": "code",
      "source": [
        "def myfunc(x, grad):\n",
        "    if grad.size > 0:\n",
        "        grad[0] = 0.0\n",
        "        grad[1] = 0.5 / sqrt(x[1])\n",
        "    return sqrt(x[1])"
      ],
      "metadata": {
        "id": "u1xyH8F9S_iU"
      },
      "execution_count": 7,
      "outputs": []
    },
    {
      "cell_type": "markdown",
      "source": [
        "#Constraints"
      ],
      "metadata": {
        "id": "1a8s_9Z_UPzX"
      }
    },
    {
      "cell_type": "code",
      "source": [
        "def myconstraint(x, grad, a, b):\n",
        "    if grad.size > 0:\n",
        "        grad[0] = 3 * a * (a*x[0] + b)**2\n",
        "        grad[1] = -1.0\n",
        "    return (a*x[0] + b)**3 - x[1]"
      ],
      "metadata": {
        "id": "goHQFo4sT_RM"
      },
      "execution_count": 8,
      "outputs": []
    },
    {
      "cell_type": "markdown",
      "source": [
        "#Calculation"
      ],
      "metadata": {
        "id": "IBYm92hDUS8g"
      }
    },
    {
      "cell_type": "code",
      "source": [
        "opt = nlopt.opt(nlopt.LD_MMA, 2)\n",
        "opt.set_lower_bounds([-float('inf'), 0])\n",
        "opt.set_min_objective(myfunc)\n",
        "opt.add_inequality_constraint(lambda x,grad: myconstraint(x,grad,2,0), 1e-8)\n",
        "opt.add_inequality_constraint(lambda x,grad: myconstraint(x,grad,-1,1), 1e-8)\n",
        "opt.set_xtol_rel(1e-4)\n",
        "x = opt.optimize([1.234, 5.678])\n",
        "minf = opt.last_optimum_value()\n",
        "print(\"optimum at \", x[0], x[1])\n",
        "print(\"minimum value = \", minf)\n",
        "print(\"result code = \", opt.last_optimize_result())"
      ],
      "metadata": {
        "id": "iVXbNOgpUEoH",
        "outputId": "51b01358-1b20-49c1-ba24-76a61cc22918",
        "colab": {
          "base_uri": "https://localhost:8080/"
        }
      },
      "execution_count": 9,
      "outputs": [
        {
          "output_type": "stream",
          "name": "stdout",
          "text": [
            "optimum at  0.3333333346933468 0.29629628940318486\n",
            "minimum value =  0.5443310476200902\n",
            "result code =  4\n"
          ]
        }
      ]
    }
  ]
}